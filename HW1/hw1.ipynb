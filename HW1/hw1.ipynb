{
 "cells": [
  {
   "cell_type": "code",
   "execution_count": 2,
   "metadata": {
    "collapsed": true,
    "pycharm": {
     "name": "#%%\n"
    }
   },
   "outputs": [],
   "source": [
    "import pandas as pd"
   ]
  },
  {
   "cell_type": "code",
   "execution_count": 4,
   "outputs": [],
   "source": [
    "df = pd.read_csv(\"data/utah_house_prices.csv\")"
   ],
   "metadata": {
    "collapsed": false,
    "pycharm": {
     "name": "#%%\n"
    }
   }
  },
  {
   "cell_type": "code",
   "execution_count": 6,
   "outputs": [
    {
     "name": "stdout",
     "output_type": "stream",
     "text": [
      "           price           last_update\n",
      "0       469900.0  2021-10-01T23:17:54Z\n",
      "1       829500.0  2021-09-07T16:49:39Z\n",
      "2       499000.0  2021-06-14T22:58:46Z\n",
      "3       439900.0  2021-04-01T19:43:34Z\n",
      "4       649900.0  2021-07-21T17:27:47Z\n",
      "...          ...                   ...\n",
      "175274  420000.0  2021-10-19T00:03:02Z\n",
      "175275  420000.0  2021-11-28T04:54:35Z\n",
      "175276  420000.0  2021-11-19T02:57:24Z\n",
      "175277  420000.0  2021-11-11T13:09:35Z\n",
      "175278  420000.0  2021-09-14T08:02:09Z\n",
      "\n",
      "[175279 rows x 2 columns]\n"
     ]
    }
   ],
   "source": [
    "print(df)"
   ],
   "metadata": {
    "collapsed": false,
    "pycharm": {
     "name": "#%%\n"
    }
   }
  },
  {
   "cell_type": "code",
   "execution_count": null,
   "outputs": [],
   "source": [],
   "metadata": {
    "collapsed": false,
    "pycharm": {
     "name": "#%%\n"
    }
   }
  }
 ],
 "metadata": {
  "kernelspec": {
   "display_name": "Python 3",
   "language": "python",
   "name": "python3"
  },
  "language_info": {
   "codemirror_mode": {
    "name": "ipython",
    "version": 2
   },
   "file_extension": ".py",
   "mimetype": "text/x-python",
   "name": "python",
   "nbconvert_exporter": "python",
   "pygments_lexer": "ipython2",
   "version": "2.7.6"
  }
 },
 "nbformat": 4,
 "nbformat_minor": 0
}